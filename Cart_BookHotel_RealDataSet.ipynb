{
 "cells": [
  {
   "cell_type": "markdown",
   "id": "9705554e-c623-4798-a408-24792876782d",
   "metadata": {},
   "source": [
    "## Importing Libraries"
   ]
  },
  {
   "cell_type": "code",
   "execution_count": 34,
   "id": "d5e58619-1bf5-4cce-ae76-ac929d2ba883",
   "metadata": {},
   "outputs": [],
   "source": [
    "import numpy as np\n",
    "import matplotlib.pyplot as plt\n",
    "import pandas as pd\n",
    "import seaborn as sns\n",
    "from sklearn.tree import DecisionTreeClassifier\n",
    "from sklearn.model_selection import cross_val_score, KFold, train_test_split\n",
    "from sklearn.metrics import accuracy_score, roc_auc_score\n",
    "from sklearn.linear_model import LinearRegression\n",
    "from sklearn.tree import DecisionTreeRegressor\n",
    "from sklearn.model_selection import cross_val_score\n",
    "from sklearn.linear_model import LogisticRegression\n",
    "from sklearn.tree import DecisionTreeClassifier\n",
    "from sklearn.neighbors import KNeighborsClassifier as KNN\n",
    "from sklearn.ensemble import VotingClassifier\n",
    "from sklearn.preprocessing import StandardScaler\n",
    "from sklearn.neighbors import KNeighborsClassifier\n",
    "from sklearn.decomposition import PCA\n",
    "from sklearn.pipeline import make_pipeline\n",
    "from sklearn.model_selection import GridSearchCV"
   ]
  },
  {
   "cell_type": "markdown",
   "id": "889fc013-9024-4d24-8177-daf7eca8a0a8",
   "metadata": {},
   "source": [
    "## Open CSV"
   ]
  },
  {
   "cell_type": "code",
   "execution_count": 2,
   "id": "8fe8445a-b886-4703-8db1-4211e05b9492",
   "metadata": {
    "tags": []
   },
   "outputs": [
    {
     "data": {
      "text/html": [
       "<div>\n",
       "<style scoped>\n",
       "    .dataframe tbody tr th:only-of-type {\n",
       "        vertical-align: middle;\n",
       "    }\n",
       "\n",
       "    .dataframe tbody tr th {\n",
       "        vertical-align: top;\n",
       "    }\n",
       "\n",
       "    .dataframe thead th {\n",
       "        text-align: right;\n",
       "    }\n",
       "</style>\n",
       "<table border=\"1\" class=\"dataframe\">\n",
       "  <thead>\n",
       "    <tr style=\"text-align: right;\">\n",
       "      <th></th>\n",
       "      <th>is_canceled</th>\n",
       "      <th>lead_time</th>\n",
       "      <th>arrival_date_week_number</th>\n",
       "      <th>arrival_date_day_of_month</th>\n",
       "      <th>arrival_date_month</th>\n",
       "      <th>stays_in_weekend_nights</th>\n",
       "      <th>stays_in_week_nights</th>\n",
       "      <th>adults</th>\n",
       "      <th>children</th>\n",
       "      <th>babies</th>\n",
       "      <th>...</th>\n",
       "      <th>reserved_room_type_G</th>\n",
       "      <th>reserved_room_type_H</th>\n",
       "      <th>reserved_room_type_L</th>\n",
       "      <th>deposit_type_No_Deposit</th>\n",
       "      <th>deposit_type_Non_Refund</th>\n",
       "      <th>deposit_type_Refundable</th>\n",
       "      <th>customer_type_Contract</th>\n",
       "      <th>customer_type_Group</th>\n",
       "      <th>customer_type_Transient</th>\n",
       "      <th>customer_type_Transient-Party</th>\n",
       "    </tr>\n",
       "  </thead>\n",
       "  <tbody>\n",
       "    <tr>\n",
       "      <th>0</th>\n",
       "      <td>0</td>\n",
       "      <td>342</td>\n",
       "      <td>27</td>\n",
       "      <td>1</td>\n",
       "      <td>7</td>\n",
       "      <td>0</td>\n",
       "      <td>0</td>\n",
       "      <td>2</td>\n",
       "      <td>0.0</td>\n",
       "      <td>0</td>\n",
       "      <td>...</td>\n",
       "      <td>0</td>\n",
       "      <td>0</td>\n",
       "      <td>0</td>\n",
       "      <td>1</td>\n",
       "      <td>0</td>\n",
       "      <td>0</td>\n",
       "      <td>0</td>\n",
       "      <td>0</td>\n",
       "      <td>1</td>\n",
       "      <td>0</td>\n",
       "    </tr>\n",
       "    <tr>\n",
       "      <th>1</th>\n",
       "      <td>0</td>\n",
       "      <td>737</td>\n",
       "      <td>27</td>\n",
       "      <td>1</td>\n",
       "      <td>7</td>\n",
       "      <td>0</td>\n",
       "      <td>0</td>\n",
       "      <td>2</td>\n",
       "      <td>0.0</td>\n",
       "      <td>0</td>\n",
       "      <td>...</td>\n",
       "      <td>0</td>\n",
       "      <td>0</td>\n",
       "      <td>0</td>\n",
       "      <td>1</td>\n",
       "      <td>0</td>\n",
       "      <td>0</td>\n",
       "      <td>0</td>\n",
       "      <td>0</td>\n",
       "      <td>1</td>\n",
       "      <td>0</td>\n",
       "    </tr>\n",
       "    <tr>\n",
       "      <th>2</th>\n",
       "      <td>0</td>\n",
       "      <td>7</td>\n",
       "      <td>27</td>\n",
       "      <td>1</td>\n",
       "      <td>7</td>\n",
       "      <td>0</td>\n",
       "      <td>1</td>\n",
       "      <td>1</td>\n",
       "      <td>0.0</td>\n",
       "      <td>0</td>\n",
       "      <td>...</td>\n",
       "      <td>0</td>\n",
       "      <td>0</td>\n",
       "      <td>0</td>\n",
       "      <td>1</td>\n",
       "      <td>0</td>\n",
       "      <td>0</td>\n",
       "      <td>0</td>\n",
       "      <td>0</td>\n",
       "      <td>1</td>\n",
       "      <td>0</td>\n",
       "    </tr>\n",
       "    <tr>\n",
       "      <th>3</th>\n",
       "      <td>0</td>\n",
       "      <td>13</td>\n",
       "      <td>27</td>\n",
       "      <td>1</td>\n",
       "      <td>7</td>\n",
       "      <td>0</td>\n",
       "      <td>1</td>\n",
       "      <td>1</td>\n",
       "      <td>0.0</td>\n",
       "      <td>0</td>\n",
       "      <td>...</td>\n",
       "      <td>0</td>\n",
       "      <td>0</td>\n",
       "      <td>0</td>\n",
       "      <td>1</td>\n",
       "      <td>0</td>\n",
       "      <td>0</td>\n",
       "      <td>0</td>\n",
       "      <td>0</td>\n",
       "      <td>1</td>\n",
       "      <td>0</td>\n",
       "    </tr>\n",
       "    <tr>\n",
       "      <th>4</th>\n",
       "      <td>0</td>\n",
       "      <td>14</td>\n",
       "      <td>27</td>\n",
       "      <td>1</td>\n",
       "      <td>7</td>\n",
       "      <td>0</td>\n",
       "      <td>2</td>\n",
       "      <td>2</td>\n",
       "      <td>0.0</td>\n",
       "      <td>0</td>\n",
       "      <td>...</td>\n",
       "      <td>0</td>\n",
       "      <td>0</td>\n",
       "      <td>0</td>\n",
       "      <td>1</td>\n",
       "      <td>0</td>\n",
       "      <td>0</td>\n",
       "      <td>0</td>\n",
       "      <td>0</td>\n",
       "      <td>1</td>\n",
       "      <td>0</td>\n",
       "    </tr>\n",
       "  </tbody>\n",
       "</table>\n",
       "<p>5 rows × 53 columns</p>\n",
       "</div>"
      ],
      "text/plain": [
       "   is_canceled  lead_time  arrival_date_week_number  \\\n",
       "0            0        342                        27   \n",
       "1            0        737                        27   \n",
       "2            0          7                        27   \n",
       "3            0         13                        27   \n",
       "4            0         14                        27   \n",
       "\n",
       "   arrival_date_day_of_month  arrival_date_month  stays_in_weekend_nights  \\\n",
       "0                          1                   7                        0   \n",
       "1                          1                   7                        0   \n",
       "2                          1                   7                        0   \n",
       "3                          1                   7                        0   \n",
       "4                          1                   7                        0   \n",
       "\n",
       "   stays_in_week_nights  adults  children  babies  ...  reserved_room_type_G  \\\n",
       "0                     0       2       0.0       0  ...                     0   \n",
       "1                     0       2       0.0       0  ...                     0   \n",
       "2                     1       1       0.0       0  ...                     0   \n",
       "3                     1       1       0.0       0  ...                     0   \n",
       "4                     2       2       0.0       0  ...                     0   \n",
       "\n",
       "   reserved_room_type_H  reserved_room_type_L  deposit_type_No_Deposit  \\\n",
       "0                     0                     0                        1   \n",
       "1                     0                     0                        1   \n",
       "2                     0                     0                        1   \n",
       "3                     0                     0                        1   \n",
       "4                     0                     0                        1   \n",
       "\n",
       "   deposit_type_Non_Refund  deposit_type_Refundable  customer_type_Contract  \\\n",
       "0                        0                        0                       0   \n",
       "1                        0                        0                       0   \n",
       "2                        0                        0                       0   \n",
       "3                        0                        0                       0   \n",
       "4                        0                        0                       0   \n",
       "\n",
       "   customer_type_Group  customer_type_Transient  customer_type_Transient-Party  \n",
       "0                    0                        1                              0  \n",
       "1                    0                        1                              0  \n",
       "2                    0                        1                              0  \n",
       "3                    0                        1                              0  \n",
       "4                    0                        1                              0  \n",
       "\n",
       "[5 rows x 53 columns]"
      ]
     },
     "execution_count": 2,
     "metadata": {},
     "output_type": "execute_result"
    }
   ],
   "source": [
    "h_book = pd.read_csv('hotel_bookings_clean.csv')\n",
    "h_book.head()"
   ]
  },
  {
   "attachments": {
    "bddef13e-2529-435d-a3db-5ebec0f0cf67.png": {
     "image/png": "[encoded data removed]"
    }
   },
   "cell_type": "markdown",
   "id": "abb7fbe0-e7c3-4358-a1db-7a01b8ec1836",
   "metadata": {},
   "source": [
    "![image.png](attachment:bddef13e-2529-435d-a3db-5ebec0f0cf67.png)"
   ]
  },
  {
   "attachments": {
    "1cd537c4-19b7-4d84-a00d-76bbb106f96a.png": {
     "image/png": "[encoded data removed]"
    }
   },
   "cell_type": "markdown",
   "id": "c83374f3-5cd1-46d7-af1a-923da15468a4",
   "metadata": {},
   "source": [
    "![image.png](attachment:1cd537c4-19b7-4d84-a00d-76bbb106f96a.png)"
   ]
  },
  {
   "cell_type": "code",
   "execution_count": 3,
   "id": "cbe0ca7f-5111-4778-995b-18dd426a57fc",
   "metadata": {
    "collapsed": true,
    "jupyter": {
     "outputs_hidden": true
    },
    "tags": []
   },
   "outputs": [
    {
     "name": "stdout",
     "output_type": "stream",
     "text": [
      "<class 'pandas.core.frame.DataFrame'>\n",
      "RangeIndex: 119210 entries, 0 to 119209\n",
      "Data columns (total 53 columns):\n",
      " #   Column                          Non-Null Count   Dtype  \n",
      "---  ------                          --------------   -----  \n",
      " 0   is_canceled                     119210 non-null  int64  \n",
      " 1   lead_time                       119210 non-null  int64  \n",
      " 2   arrival_date_week_number        119210 non-null  int64  \n",
      " 3   arrival_date_day_of_month       119210 non-null  int64  \n",
      " 4   arrival_date_month              119210 non-null  int64  \n",
      " 5   stays_in_weekend_nights         119210 non-null  int64  \n",
      " 6   stays_in_week_nights            119210 non-null  int64  \n",
      " 7   adults                          119210 non-null  int64  \n",
      " 8   children                        119206 non-null  float64\n",
      " 9   babies                          119210 non-null  int64  \n",
      " 10  is_repeated_guest               119210 non-null  int64  \n",
      " 11  previous_cancellations          119210 non-null  int64  \n",
      " 12  previous_bookings_not_canceled  119210 non-null  int64  \n",
      " 13  required_car_parking_spaces     119210 non-null  int64  \n",
      " 14  total_of_special_requests       119210 non-null  int64  \n",
      " 15  avg_daily_rate                  119210 non-null  float64\n",
      " 16  booked_by_company               119210 non-null  int64  \n",
      " 17  booked_by_agent                 119210 non-null  int64  \n",
      " 18  hotel_City                      119210 non-null  int64  \n",
      " 19  hotel_Resort                    119210 non-null  int64  \n",
      " 20  meal_BB                         119210 non-null  int64  \n",
      " 21  meal_FB                         119210 non-null  int64  \n",
      " 22  meal_HB                         119210 non-null  int64  \n",
      " 23  meal_No_meal                    119210 non-null  int64  \n",
      " 24  market_segment_Aviation         119210 non-null  int64  \n",
      " 25  market_segment_Complementary    119210 non-null  int64  \n",
      " 26  market_segment_Corporate        119210 non-null  int64  \n",
      " 27  market_segment_Direct           119210 non-null  int64  \n",
      " 28  market_segment_Groups           119210 non-null  int64  \n",
      " 29  market_segment_Offline_TA_TO    119210 non-null  int64  \n",
      " 30  market_segment_Online_TA        119210 non-null  int64  \n",
      " 31  market_segment_Undefined        119210 non-null  int64  \n",
      " 32  distribution_channel_Corporate  119210 non-null  int64  \n",
      " 33  distribution_channel_Direct     119210 non-null  int64  \n",
      " 34  distribution_channel_GDS        119210 non-null  int64  \n",
      " 35  distribution_channel_TA_TO      119210 non-null  int64  \n",
      " 36  distribution_channel_Undefined  119210 non-null  int64  \n",
      " 37  reserved_room_type_A            119210 non-null  int64  \n",
      " 38  reserved_room_type_B            119210 non-null  int64  \n",
      " 39  reserved_room_type_C            119210 non-null  int64  \n",
      " 40  reserved_room_type_D            119210 non-null  int64  \n",
      " 41  reserved_room_type_E            119210 non-null  int64  \n",
      " 42  reserved_room_type_F            119210 non-null  int64  \n",
      " 43  reserved_room_type_G            119210 non-null  int64  \n",
      " 44  reserved_room_type_H            119210 non-null  int64  \n",
      " 45  reserved_room_type_L            119210 non-null  int64  \n",
      " 46  deposit_type_No_Deposit         119210 non-null  int64  \n",
      " 47  deposit_type_Non_Refund         119210 non-null  int64  \n",
      " 48  deposit_type_Refundable         119210 non-null  int64  \n",
      " 49  customer_type_Contract          119210 non-null  int64  \n",
      " 50  customer_type_Group             119210 non-null  int64  \n",
      " 51  customer_type_Transient         119210 non-null  int64  \n",
      " 52  customer_type_Transient-Party   119210 non-null  int64  \n",
      "dtypes: float64(2), int64(51)\n",
      "memory usage: 48.2 MB\n"
     ]
    }
   ],
   "source": [
    "h_book.info()"
   ]
  },
  {
   "cell_type": "markdown",
   "id": "5a0132f5-d2f5-42bc-9f7b-46ec5d93f8c4",
   "metadata": {},
   "source": [
    "Every column is numeric (Float or Int) so we will not act in the columns to change/remove because of the type that they may have."
   ]
  },
  {
   "cell_type": "code",
   "execution_count": 4,
   "id": "4823c869-1e84-44f8-a511-a9992ac3b581",
   "metadata": {
    "collapsed": true,
    "jupyter": {
     "outputs_hidden": true
    },
    "tags": []
   },
   "outputs": [
    {
     "data": {
      "text/plain": [
       "is_canceled                       0\n",
       "lead_time                         0\n",
       "arrival_date_week_number          0\n",
       "arrival_date_day_of_month         0\n",
       "arrival_date_month                0\n",
       "stays_in_weekend_nights           0\n",
       "stays_in_week_nights              0\n",
       "adults                            0\n",
       "children                          4\n",
       "babies                            0\n",
       "is_repeated_guest                 0\n",
       "previous_cancellations            0\n",
       "previous_bookings_not_canceled    0\n",
       "required_car_parking_spaces       0\n",
       "total_of_special_requests         0\n",
       "avg_daily_rate                    0\n",
       "booked_by_company                 0\n",
       "booked_by_agent                   0\n",
       "hotel_City                        0\n",
       "hotel_Resort                      0\n",
       "meal_BB                           0\n",
       "meal_FB                           0\n",
       "meal_HB                           0\n",
       "meal_No_meal                      0\n",
       "market_segment_Aviation           0\n",
       "market_segment_Complementary      0\n",
       "market_segment_Corporate          0\n",
       "market_segment_Direct             0\n",
       "market_segment_Groups             0\n",
       "market_segment_Offline_TA_TO      0\n",
       "market_segment_Online_TA          0\n",
       "market_segment_Undefined          0\n",
       "distribution_channel_Corporate    0\n",
       "distribution_channel_Direct       0\n",
       "distribution_channel_GDS          0\n",
       "distribution_channel_TA_TO        0\n",
       "distribution_channel_Undefined    0\n",
       "reserved_room_type_A              0\n",
       "reserved_room_type_B              0\n",
       "reserved_room_type_C              0\n",
       "reserved_room_type_D              0\n",
       "reserved_room_type_E              0\n",
       "reserved_room_type_F              0\n",
       "reserved_room_type_G              0\n",
       "reserved_room_type_H              0\n",
       "reserved_room_type_L              0\n",
       "deposit_type_No_Deposit           0\n",
       "deposit_type_Non_Refund           0\n",
       "deposit_type_Refundable           0\n",
       "customer_type_Contract            0\n",
       "customer_type_Group               0\n",
       "customer_type_Transient           0\n",
       "customer_type_Transient-Party     0\n",
       "dtype: int64"
      ]
     },
     "execution_count": 4,
     "metadata": {},
     "output_type": "execute_result"
    }
   ],
   "source": [
    "h_book.isna().sum()"
   ]
  },
  {
   "cell_type": "markdown",
   "id": "70346b7f-24c2-4529-9997-73495e743e81",
   "metadata": {},
   "source": [
    "The column 'children' has 4 null values we will drop this column."
   ]
  },
  {
   "cell_type": "code",
   "execution_count": 5,
   "id": "11842eec-d001-4bcd-aa62-196aad36ffa6",
   "metadata": {
    "tags": []
   },
   "outputs": [],
   "source": [
    "h_book.dropna(inplace = True)"
   ]
  },
  {
   "cell_type": "code",
   "execution_count": 79,
   "id": "e2f39898-065e-402c-a31c-31997661abd5",
   "metadata": {},
   "outputs": [
    {
     "data": {
      "text/plain": [
       "(119206, 53)"
      ]
     },
     "execution_count": 79,
     "metadata": {},
     "output_type": "execute_result"
    }
   ],
   "source": [
    "h_book.shape"
   ]
  },
  {
   "cell_type": "markdown",
   "id": "77b61a19-4c6b-4811-9535-b3270d5d0c8b",
   "metadata": {},
   "source": [
    "## Objective - Predict if the client will or not cancel is reservation in this hotel\n",
    "\n",
    "A chain of hotels has just hired you as a data analyst. They have noticed that the cancellation rate has risen in the past few years. This often leads to rooms that are left unrented for multiple days at a time.\n",
    "\n",
    "Hotel management is interested in developing a model to predict the likelihood that a customer will cancel their reservation. If successful, this could be used to optimize their booking service and anticipate when cancellations will occur.\n",
    "\n",
    "You will need to prepare a report that is accessible to a broad audience. It should outline your motivation, steps, findings, and conclusions."
   ]
  },
  {
   "cell_type": "markdown",
   "id": "21b1f999-7bec-4fc9-926e-6d698df86c36",
   "metadata": {},
   "source": [
    "Is the dataset balanced or unbalaced? Check the labels of the column 'is_cancelled'.\n",
    "\n",
    "If we find that the data set is below 30% for one of tho categories, we will categorize it as unbalace."
   ]
  },
  {
   "cell_type": "code",
   "execution_count": 6,
   "id": "d633a94d-8535-468a-877a-69886ac6e4e2",
   "metadata": {
    "tags": []
   },
   "outputs": [
    {
     "data": {
      "text/plain": [
       "0    0.629255\n",
       "1    0.370745\n",
       "Name: is_canceled, dtype: float64"
      ]
     },
     "execution_count": 6,
     "metadata": {},
     "output_type": "execute_result"
    }
   ],
   "source": [
    "h_book['is_canceled'].value_counts(normalize = True)"
   ]
  },
  {
   "cell_type": "markdown",
   "id": "a384f2b5-7e75-4373-aa04-8bf18325a0ec",
   "metadata": {},
   "source": [
    "Category number 1 has lower number of data points however is 37%, we will consider as mild and we will consider that the dataset is balanced.\n",
    "\n",
    "Why we should check if the dataset is unbalanced? An unbalanced dataset, with lower data points belonging to one of te categories will not be able to learn fully this category and the model will be unnacurate.\n",
    "\n",
    "If we check a strong discrepancy between categories we should apply downsampling and upweighting."
   ]
  },
  {
   "cell_type": "markdown",
   "id": "01559509-1216-4d3f-9258-f5f03a161e19",
   "metadata": {},
   "source": [
    "Divide the data into X & y to start the split between Train & Test."
   ]
  },
  {
   "cell_type": "code",
   "execution_count": 88,
   "id": "8dcf4de5-81cc-4304-a65f-4a7ae088fcf8",
   "metadata": {},
   "outputs": [],
   "source": [
    "X = h_book.drop('is_canceled', axis = 'columns').values\n",
    "y = h_book['is_canceled'].values"
   ]
  },
  {
   "cell_type": "markdown",
   "id": "b63eb724-e378-4479-bb97-85eb6b52932e",
   "metadata": {},
   "source": [
    "## Dimension Reduction with PCA - Intrinsic Value"
   ]
  },
  {
   "cell_type": "markdown",
   "id": "16059685-c322-4180-b390-d8e89467e67f",
   "metadata": {},
   "source": [
    "Our dataset has 52 features, meaning that implement a model with 83_444 x 52 is time and memory consuming.\n",
    "\n",
    "So we will try to reduce the number of features present, 'removing' the features with low variance (low information). Staying only with the features that have more information, getting the model computionally & time friendly."
   ]
  },
  {
   "cell_type": "markdown",
   "id": "bb72b542-a86d-48ce-a3bf-001f82ca4c40",
   "metadata": {},
   "source": [
    "Selecting number of components____"
   ]
  },
  {
   "cell_type": "markdown",
   "id": "8015cd44-dc0c-4d22-b7a9-f3bb422c5b66",
   "metadata": {},
   "source": [
    "We have two ways of doing it\n",
    "\n",
    "- 1. Explained Variance\n",
    "- 2. Explained Variance Ratio"
   ]
  },
  {
   "cell_type": "markdown",
   "id": "42cfb945-fae9-4679-ac6c-d8afac7d18a6",
   "metadata": {},
   "source": [
    "- Explained Variance"
   ]
  },
  {
   "cell_type": "code",
   "execution_count": 83,
   "id": "208b7be5-4cbc-42cf-942a-0a75ce098ceb",
   "metadata": {
    "tags": []
   },
   "outputs": [
    {
     "data": {
      "image/png": "[encoded data removed]",
      "text/plain": [
       "<Figure size 1440x720 with 1 Axes>"
      ]
     },
     "metadata": {
      "needs_background": "light"
     },
     "output_type": "display_data"
    }
   ],
   "source": [
    "# Create scaler: scaler\n",
    "scaler = StandardScaler()\n",
    "\n",
    "#Create a PCA instance (Note: We will not define n_components as default, meaning that for now we will consider them all)\n",
    "pca = PCA()\n",
    "\n",
    "#PCA fit\n",
    "pipeline = make_pipeline(scaler, pca)\n",
    "\n",
    "#Fit the pipeline to X.values\n",
    "pipeline.fit(X)\n",
    "        \n",
    "#Plot the explained variance\n",
    "fig, ax = plt.subplots(figsize=(20,10))\n",
    "features = range(pca.n_components_)\n",
    "plt.bar(features, pca.explained_variance_)\n",
    "plt.xlabel('PCA Features')\n",
    "plt.ylabel('Variance')\n",
    "plt.xticks(features)\n",
    "plt.show()"
   ]
  },
  {
   "cell_type": "markdown",
   "id": "a024baf1-c04a-427d-98ca-7f3d09ab27b4",
   "metadata": {},
   "source": [
    "This method is useful to check the variation of variances for each feature in the dataset, however, in this case, is not accurate enough for us to do a precise and based decision.\n",
    "\n",
    "So we will use explained variance ratio.\n",
    "\n",
    "When using explained variance ratio, we shoul use a treshold of the explained variance that we want to include in our model. Literature refers that we should use something between 0.90 to 0.99, as we have too many features and we want to balance variance with the number of features used in this case we will go with 0.99."
   ]
  },
  {
   "cell_type": "markdown",
   "id": "b969e803-600b-4155-bc49-80b3f32bf232",
   "metadata": {},
   "source": [
    "- Explained Variance Ratio"
   ]
  },
  {
   "cell_type": "code",
   "execution_count": 84,
   "id": "e9af08b6-5591-4675-8ea6-f29124217238",
   "metadata": {},
   "outputs": [
    {
     "data": {
      "image/png": "[encoded data removed]",
      "text/plain": [
       "<Figure size 1440x720 with 1 Axes>"
      ]
     },
     "metadata": {
      "needs_background": "light"
     },
     "output_type": "display_data"
    }
   ],
   "source": [
    "#Start plotting\n",
    "fig, ax = plt.subplots(figsize=(20,10))\n",
    "#Define x as the number of features, in our case 52\n",
    "x = np.arange(1, 53, step=1)\n",
    "#Define y as the cumulative sum of the features over our dataset\n",
    "y = np.cumsum(pca.explained_variance_ratio_)\n",
    "\n",
    "plt.ylim(0.0,1.1)\n",
    "plt.plot(x, y, marker='o', linestyle='--', color='b')\n",
    "# Define a line with the threshold that you choose in our case it was 0.90\n",
    "plt.axhline(y=0.99, color='r', linestyle='-')\n",
    "plt.xticks(np.arange(0, 52, step=1))\n",
    "ax.grid(axis='x')"
   ]
  },
  {
   "cell_type": "markdown",
   "id": "0d163ae3-fa40-4c57-925b-68c4379a47b7",
   "metadata": {},
   "source": [
    "In this case I will not remove any features, maybe we could remove 12 features but I really feel that they are close enough from each other and we will keep it as it has. However, we could remove from the 41 to the end.\n",
    "\n",
    "Let's now start our PCA Reduction with the all features."
   ]
  },
  {
   "cell_type": "code",
   "execution_count": 86,
   "id": "5f7f6833-a978-43d8-8965-58e25e839e45",
   "metadata": {},
   "outputs": [
    {
     "name": "stdout",
     "output_type": "stream",
     "text": [
      "(119206, 52)\n"
     ]
    }
   ],
   "source": [
    "# Import PCA\n",
    "from sklearn.decomposition import PCA\n",
    "\n",
    "#Scale the data\n",
    "scaler = StandardScaler()\n",
    "\n",
    "#Fit and Transform X\n",
    "scaled_samples = scaler.fit_transform(X)\n",
    "\n",
    "# Create a PCA model with 2 components: pca\n",
    "pca = PCA(n_components = 52)\n",
    "\n",
    "# Fit the PCA instance to the scaled samples\n",
    "pca.fit(scaled_samples)\n",
    "\n",
    "# Transform the scaled samples: pca_features\n",
    "pca_features = pca.transform(scaled_samples)\n",
    "\n",
    "# Print the shape of pca_features\n",
    "print(pca_features.shape)"
   ]
  },
  {
   "cell_type": "markdown",
   "id": "0d89e71b-ef51-45da-b9be-5ab44e94554a",
   "metadata": {},
   "source": [
    "## Evaluation of different Models"
   ]
  },
  {
   "cell_type": "code",
   "execution_count": 89,
   "id": "3052bb6f-58f6-49ae-ba6c-08143270ee9b",
   "metadata": {
    "tags": []
   },
   "outputs": [
    {
     "name": "stdout",
     "output_type": "stream",
     "text": [
      "Logistic Regression has a 0.8073 accuracy with a standard deviation of 0.0026\n",
      "KNN has a 0.809 accuracy with a standard deviation of 0.0033\n",
      "Decision Tree Classifier has a 0.8093 accuracy with a standard deviation of 0.002\n"
     ]
    }
   ],
   "source": [
    "#We will choose the solver Newton-cg instead of the default 'lbfgs' because we will have a lot of features,\n",
    "#and lgbfs usually is not able to converge this type of datasets\n",
    "models = {'Logistic Regression':LogisticRegression(solver = 'newton-cg'), 'KNN':KNeighborsClassifier(), \n",
    "          'Decision Tree Classifier': DecisionTreeClassifier()}\n",
    "results = []\n",
    "\n",
    "#Split the data\n",
    "X_train, X_test, y_train, y_test = train_test_split(scaled_samples,y,test_size = 0.3, random_state = 1)\n",
    "\n",
    "for model in models.values():\n",
    "    \n",
    "    #Start KFOLD, remember that you should SHUFFLE\n",
    "    kf = KFold(n_splits = 6, random_state = 2, shuffle =True)\n",
    "    \n",
    "    #Start Cross Val Score\n",
    "    cv = cross_val_score(model, X_train, y_train, cv = kf)\n",
    "    \n",
    "    #Append the results\n",
    "    results.append(cv)\n",
    "   \n",
    "print(f\"Logistic Regression has a {np.round(np.mean(results[0]),4)} accuracy with a standard deviation of {np.round(np.std(results[0]),4)}\")\n",
    "\n",
    "print(f\"KNN has a {np.round(np.mean(results[1]),4)} accuracy with a standard deviation of {np.round(np.std(results[1]),4)}\")\n",
    "\n",
    "print(f\"Decision Tree Classifier has a {np.round(np.mean(results[2]),4)} accuracy with a standard deviation of {np.round(np.std(results[2]),4)}\")"
   ]
  },
  {
   "cell_type": "markdown",
   "id": "e97627a4-4f18-4551-a83d-5cfca1e72e13",
   "metadata": {},
   "source": [
    "We have very similar accuracy for the three different models considered.\n",
    "\n",
    "So we will keep the best one, Decision Tree Classifier."
   ]
  },
  {
   "cell_type": "markdown",
   "id": "bd9fb25e-8be8-4101-b1b2-0eecb7fecf45",
   "metadata": {},
   "source": [
    "## Decision Tree Classifier"
   ]
  },
  {
   "cell_type": "markdown",
   "id": "827f52e3-fd4c-4bb0-804e-de4b1f5ed206",
   "metadata": {},
   "source": [
    "## Tuning CART Parameters"
   ]
  },
  {
   "cell_type": "markdown",
   "id": "5e35123e-a05b-4adc-bf40-c121fba4bfe3",
   "metadata": {},
   "source": [
    "We will tune the parameter to enable us to find the best fit for our CART Model.\n",
    "\n",
    "Let's see what params can we test in our Model."
   ]
  },
  {
   "cell_type": "code",
   "execution_count": 90,
   "id": "a62c3046-e11c-4d17-bb57-dccbf58cbd31",
   "metadata": {},
   "outputs": [
    {
     "data": {
      "text/plain": [
       "{'ccp_alpha': 0.0,\n",
       " 'class_weight': None,\n",
       " 'criterion': 'gini',\n",
       " 'max_depth': None,\n",
       " 'max_features': None,\n",
       " 'max_leaf_nodes': None,\n",
       " 'min_impurity_decrease': 0.0,\n",
       " 'min_samples_leaf': 1,\n",
       " 'min_samples_split': 2,\n",
       " 'min_weight_fraction_leaf': 0.0,\n",
       " 'random_state': None,\n",
       " 'splitter': 'best'}"
      ]
     },
     "execution_count": 90,
     "metadata": {},
     "output_type": "execute_result"
    }
   ],
   "source": [
    "#Initiate the model\n",
    "dt = DecisionTreeClassifier()\n",
    "\n",
    "#Use get_params() to have a list of different features to consider in our analysis\n",
    "dt.get_params()"
   ]
  },
  {
   "cell_type": "markdown",
   "id": "7d8f0ea5-d2e3-4572-951c-66ddaca33372",
   "metadata": {},
   "source": [
    "We will only test max_depth and min_samples_leaf,\n",
    "\n",
    "- Max_depth - The size of our tree.\n",
    "\n",
    "- Min_Samples_leaf - Minimum samples of the last node."
   ]
  },
  {
   "cell_type": "code",
   "execution_count": 91,
   "id": "9d9605cf-6eca-4aca-87af-37fe42094557",
   "metadata": {},
   "outputs": [],
   "source": [
    "Xa = h_book.drop('is_canceled', axis = 'columns').values\n",
    "ya = h_book['is_canceled'].values\n",
    "\n",
    "#Dividing the dataset into train and tes\n",
    "X_train, X_test, y_train, y_test = train_test_split(Xa, ya, test_size = 0.3, random_state = 42)\n",
    "\n",
    "#Scaling the data\n",
    "scaler = StandardScaler()\n",
    "\n",
    "#Scale the data\n",
    "X_train_scaled = scaler.fit_transform(X_train)\n",
    "X_test_scaled = scaler.transform(X_test)"
   ]
  },
  {
   "cell_type": "markdown",
   "id": "f317b4f2-2e6a-48fd-82b7-84f8b9ac58d5",
   "metadata": {},
   "source": [
    "We will use GridSearchCV to make a grid and iterate over the options that we will feed for the params used."
   ]
  },
  {
   "cell_type": "code",
   "execution_count": 92,
   "id": "622a7d36-28ce-4f4d-8f93-4f72d8f7d22a",
   "metadata": {},
   "outputs": [
    {
     "name": "stdout",
     "output_type": "stream",
     "text": [
      "Fitting 5 folds for each of 72 candidates, totalling 360 fits\n"
     ]
    },
    {
     "data": {
      "text/plain": [
       "GridSearchCV(cv=5, estimator=DecisionTreeClassifier(random_state=1), n_jobs=-1,\n",
       "             param_grid={'max_depth': array([2, 3, 4, 5, 6, 7, 8, 9]),\n",
       "                         'min_samples_leaf': array([0.12, 0.13, 0.14, 0.15, 0.16, 0.17, 0.18, 0.19, 0.2 ])},\n",
       "             scoring='accuracy', verbose=1)"
      ]
     },
     "execution_count": 92,
     "metadata": {},
     "output_type": "execute_result"
    }
   ],
   "source": [
    "#Define the params that we want to test\n",
    "params_dt = {'max_depth': np.arange(2,10,1),\n",
    "            'min_samples_leaf':np.arange(0.12,0.20,0.01)}\n",
    "\n",
    "#Initiate the model\n",
    "dt = DecisionTreeClassifier(random_state = 1)\n",
    "\n",
    "#Initiate grid_dt(Note we will use accuracy because we consider above that our data is not unbalanced, if it is unbalanced use Roc_Auc to \n",
    "#check the accuracy instead the accuracy itself)\n",
    "grid_dt = GridSearchCV(estimator=dt,\n",
    "                       param_grid=params_dt,\n",
    "                       scoring='accuracy',\n",
    "                       cv=5,\n",
    "                       verbose=1,\n",
    "                       n_jobs=-1)\n",
    "\n",
    "#Fit the model to the gridsearch\n",
    "grid_dt.fit(X_train_scaled, y_train)"
   ]
  },
  {
   "cell_type": "code",
   "execution_count": 93,
   "id": "bc6d792d-2697-4833-9511-4208d6de83ae",
   "metadata": {},
   "outputs": [
    {
     "name": "stdout",
     "output_type": "stream",
     "text": [
      "Test set Accuracy score: 0.625\n"
     ]
    }
   ],
   "source": [
    "#Extract the best estimator\n",
    "best_model = grid_dt.best_estimator_\n",
    "\n",
    "#Predict the probabilities\n",
    "y_pred = best_model.predict(X_test)\n",
    "\n",
    "## Compute test_roc_auc\n",
    "accuracy = accuracy_score(y_test,y_pred)\n",
    "\n",
    "# Print test_roc_auc\n",
    "print('Test set Accuracy score: {:.3f}'.format(accuracy))"
   ]
  },
  {
   "cell_type": "code",
   "execution_count": 94,
   "id": "87011a26-dc92-4aca-a621-e28945543c62",
   "metadata": {},
   "outputs": [
    {
     "name": "stdout",
     "output_type": "stream",
     "text": [
      "The best parameter for max depth is 4\n",
      "The best parameter for min_samples_leaf is 0.12\n"
     ]
    }
   ],
   "source": [
    "print(f'The best parameter for max depth is {grid_dt.best_estimator_.get_params()[\"max_depth\"]}')\n",
    "print(f'The best parameter for min_samples_leaf is {grid_dt.best_estimator_.get_params()[\"min_samples_leaf\"]}')"
   ]
  },
  {
   "cell_type": "markdown",
   "id": "361a95ad-c6b9-4b8e-a241-0cc352b3a931",
   "metadata": {},
   "source": [
    "We achieve a score of 63% of accuracy, at the first look is not that high. However if we consider the number of features that we are working with is not that bad and we will accept it.\n",
    "\n",
    "With a max_depth of 4 and min_samples leaf of 0.12."
   ]
  },
  {
   "cell_type": "markdown",
   "id": "66424479-4932-4e04-a93b-32606a2e1bba",
   "metadata": {},
   "source": [
    "Now we will get the more importants features used for this analysis"
   ]
  },
  {
   "cell_type": "code",
   "execution_count": 123,
   "id": "f8447046-e911-42b7-8ee9-33dc1b1fae53",
   "metadata": {
    "tags": []
   },
   "outputs": [
    {
     "data": {
      "image/png": "[encoded data removed]",
      "text/plain": [
       "<Figure size 1440x1440 with 1 Axes>"
      ]
     },
     "metadata": {
      "needs_background": "light"
     },
     "output_type": "display_data"
    }
   ],
   "source": [
    "t = h_book.drop('is_canceled', axis = 'columns')\n",
    "\n",
    "# Create a pd.Series of features importances\n",
    "importances = pd.Series(data=best_model.tree_.compute_feature_importances(normalize=False),\n",
    "                        index= h_book.drop('is_canceled', axis = 'columns').columns)\n",
    "\n",
    "# Sort importances\n",
    "importances_sorted = importances.sort_values()\n",
    "\n",
    "importances_sorted_top = importances_sorted[-3:]\n",
    "\n",
    "fig, ax = plt.subplots(figsize = (20,20))\n",
    "\n",
    "# Draw a horizontal barplot of importances_sorted\n",
    "importances_sorted_top.plot(kind='barh', color='lightgreen')\n",
    "plt.title('Features Importances')\n",
    "plt.show()"
   ]
  },
  {
   "cell_type": "markdown",
   "id": "92f2a7bc-0197-49ee-9674-7f4c415eb235",
   "metadata": {},
   "source": [
    "We check that the features more important to understand if a client will cancel their booking in this hotel are,\n",
    "\n",
    "- Non Refund option\n",
    "- Special Requests\n",
    "- Waitng time for the room"
   ]
  },
  {
   "cell_type": "markdown",
   "id": "c7e0ede9-3240-4951-afd1-3fe3eac2afea",
   "metadata": {},
   "source": [
    "## Conclusion"
   ]
  },
  {
   "cell_type": "markdown",
   "id": "cd77efb6-d45f-4739-9d87-78bca06f8ad2",
   "metadata": {},
   "source": [
    "First we will check the mean for every single important feature."
   ]
  },
  {
   "cell_type": "code",
   "execution_count": 122,
   "id": "0cdd5d78-e5a0-40b0-abc3-9e105928b206",
   "metadata": {},
   "outputs": [
    {
     "data": {
      "text/html": [
       "<div>\n",
       "<style scoped>\n",
       "    .dataframe tbody tr th:only-of-type {\n",
       "        vertical-align: middle;\n",
       "    }\n",
       "\n",
       "    .dataframe tbody tr th {\n",
       "        vertical-align: top;\n",
       "    }\n",
       "\n",
       "    .dataframe thead th {\n",
       "        text-align: right;\n",
       "    }\n",
       "</style>\n",
       "<table border=\"1\" class=\"dataframe\">\n",
       "  <thead>\n",
       "    <tr style=\"text-align: right;\">\n",
       "      <th></th>\n",
       "      <th>lead_time</th>\n",
       "      <th>market_segment_Online_TA</th>\n",
       "      <th>deposit_type_Non_Refund</th>\n",
       "      <th>total_of_special_requests</th>\n",
       "    </tr>\n",
       "    <tr>\n",
       "      <th>is_canceled</th>\n",
       "      <th></th>\n",
       "      <th></th>\n",
       "      <th></th>\n",
       "      <th></th>\n",
       "    </tr>\n",
       "  </thead>\n",
       "  <tbody>\n",
       "    <tr>\n",
       "      <th>0</th>\n",
       "      <td>80.082028</td>\n",
       "      <td>0.475570</td>\n",
       "      <td>0.001240</td>\n",
       "      <td>0.714455</td>\n",
       "    </tr>\n",
       "    <tr>\n",
       "      <th>1</th>\n",
       "      <td>144.899106</td>\n",
       "      <td>0.469148</td>\n",
       "      <td>0.327956</td>\n",
       "      <td>0.328815</td>\n",
       "    </tr>\n",
       "  </tbody>\n",
       "</table>\n",
       "</div>"
      ],
      "text/plain": [
       "              lead_time  market_segment_Online_TA  deposit_type_Non_Refund  \\\n",
       "is_canceled                                                                  \n",
       "0             80.082028                  0.475570                 0.001240   \n",
       "1            144.899106                  0.469148                 0.327956   \n",
       "\n",
       "             total_of_special_requests  \n",
       "is_canceled                             \n",
       "0                             0.714455  \n",
       "1                             0.328815  "
      ]
     },
     "execution_count": 122,
     "metadata": {},
     "output_type": "execute_result"
    }
   ],
   "source": [
    "h_book.groupby('is_canceled')[['lead_time','market_segment_Online_TA','deposit_type_Non_Refund','total_of_special_requests']].mean()"
   ]
  },
  {
   "cell_type": "markdown",
   "id": "a2f56937-0152-4efe-93de-190095008764",
   "metadata": {},
   "source": [
    "We apply PCA to reduce the dimensionality we opt out to remove any feature from that, mainly they were to close in terms of variance and variance ratio, however in the next try we will remove the features from 41 to 52.\n",
    "\n",
    "We tried KNN, CART and LogReg, and the accuracy was very similar but CART was the greatest so we used it.\n",
    "\n",
    "GridSearch was apllied to tune our hyperparameters, obtain an max_depth of 4 and min samples in the last node of 0.12.\n",
    "\n",
    "The best features to influence our model were - Non Refund option, Special Requests, Time between booking and arrival.\n",
    "\n",
    "We reccomend that,\n",
    "\n",
    "- The company should include a non refund option in their bookings when the reservation is done. 32% of reservations are cancelled when this happen.\n",
    "\n",
    "- 71% of the reservations with special requests approved are not cancelled. So keep looking, if people ask for special things.\n",
    "\n",
    "- Time between booking and arrival is important. When time is lower people usually don't cancel the booking."
   ]
  }
 ],
 "metadata": {
  "kernelspec": {
   "display_name": "Python 3 (ipykernel)",
   "language": "python",
   "name": "python3"
  },
  "language_info": {
   "codemirror_mode": {
    "name": "ipython",
    "version": 3
   },
   "file_extension": ".py",
   "mimetype": "text/x-python",
   "name": "python",
   "nbconvert_exporter": "python",
   "pygments_lexer": "ipython3",
   "version": "3.8.12"
  }
 },
 "nbformat": 4,
 "nbformat_minor": 5
}
